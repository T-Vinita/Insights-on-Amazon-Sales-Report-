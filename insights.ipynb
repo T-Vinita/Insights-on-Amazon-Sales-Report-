{
  "nbformat": 4,
  "nbformat_minor": 0,
  "metadata": {
    "colab": {
      "private_outputs": true,
      "provenance": [],
      "authorship_tag": "ABX9TyNVJV1ZhzqT7vGhaQV200xV",
      "include_colab_link": true
    },
    "kernelspec": {
      "name": "python3",
      "display_name": "Python 3"
    },
    "language_info": {
      "name": "python"
    }
  },
  "cells": [
    {
      "cell_type": "markdown",
      "metadata": {
        "id": "view-in-github",
        "colab_type": "text"
      },
      "source": [
        "<a href=\"https://colab.research.google.com/github/T-Vinita/Insights-on-Amazon-Sales-Report-/blob/main/insights.ipynb\" target=\"_parent\"><img src=\"https://colab.research.google.com/assets/colab-badge.svg\" alt=\"Open In Colab\"/></a>"
      ]
    },
    {
      "cell_type": "code",
      "source": [
        "from google.colab import files\n",
        "uploaded = files.upload()"
      ],
      "metadata": {
        "id": "5XXLL2ae-5KI"
      },
      "execution_count": null,
      "outputs": []
    },
    {
      "cell_type": "code",
      "execution_count": null,
      "metadata": {
        "id": "lFsZtda9-19d"
      },
      "outputs": [],
      "source": [
        "import pandas as pd\n",
        "import matplotlib.pyplot as plt\n",
        "import seaborn as sns\n",
        "\n",
        "# Load dataset\n",
        "df = pd.read_csv(\"Amazon Sale Report.csv\")  # Change filename as needed\n",
        "\n",
        "print(df.head())\n",
        "\n",
        "df['Date'] = pd.to_datetime(df['Date'], errors='coerce')\n",
        "\n",
        "df = df.dropna(subset=['Category', 'Amount', 'Date'])\n",
        "\n",
        "df['Year'] = df['Date'].dt.year\n",
        "df['Month'] = df['Date'].dt.month\n",
        "df['Weekday'] = df['Date'].dt.day_name()\n",
        "\n",
        "# --- Sales Overview ---\n",
        "sales_summary = df.groupby(['Year', 'Month'])['Amount'].sum().reset_index()\n",
        "sales_summary = sales_summary.sort_values(['Year', 'Month'])\n",
        "\n",
        "# --- Product Analysis ---\n",
        "product_sales = df.groupby('Category')['Amount'].sum().sort_values(ascending=False).reset_index()\n",
        "# The 'Quantity' column is missing from the dataset, so we cannot calculate product quantity.\n",
        "# product_qty = df.groupby('Category')['Quantity'].sum().sort_values(ascending=False).reset_index()\n",
        "\n",
        "\n",
        "# --- Fulfillment Analysis ---\n",
        "fulfillment_counts = df['Fulfilment'].value_counts().reset_index()\n",
        "fulfillment_counts.columns = ['Fulfillment Method', 'Count']\n",
        "\n",
        "# --- Geographical Analysis ---\n",
        "geo_sales = df.groupby('ship-state')['Amount'].sum().sort_values(ascending=False).reset_index()\n",
        "\n",
        "# --- Customer Segmentation (if Customer ID or Address available) ---\n",
        "# If there is no customer ID, you can segment by state or high/low spenders\n",
        "df['High Value'] = df['Amount'] > df['Amount'].median()\n",
        "\n",
        "# --- Save to CSV for Power BI ---\n",
        "df.to_csv('cleaned_amazon_sales.csv', index=False)\n",
        "sales_summary.to_csv('sales_summary.csv', index=False)\n",
        "product_sales.to_csv('product_sales.csv', index=False)\n",
        "# We cannot save 'product_qty.csv' because the 'Quantity' column is missing.\n",
        "# product_qty.to_csv('product_qty.csv', index=False)\n",
        "fulfillment_counts.to_csv('fulfillment_counts.csv', index=False)\n",
        "geo_sales.to_csv('geo_sales.csv', index=False)\n",
        "\n",
        "print(\"✅ Files saved. Ready to import into Power BI.\")\n",
        "\n",
        "# --- Optional: Basic Plots in Python (just for initial checks) ---\n",
        "plt.figure(figsize=(10, 5))\n",
        "sns.lineplot(data=sales_summary, x='Month', y='Amount', hue='Year', marker=\"o\")\n",
        "plt.title(\"Monthly Sales Trend\")\n",
        "plt.show()\n",
        "\n",
        "plt.figure(figsize=(10, 5))\n",
        "sns.barplot(data=product_sales, x='Amount', y='Category')\n",
        "plt.title(\"Sales by Product Category\")\n",
        "plt.show()\n",
        "\n",
        "plt.figure(figsize=(6, 6))\n",
        "plt.pie(fulfillment_counts['Count'], labels=fulfillment_counts['Fulfillment Method'], autopct='%1.1f%%')\n",
        "plt.title(\"Fulfillment Method Distribution\")\n",
        "plt.show()"
      ]
    }
  ]
}